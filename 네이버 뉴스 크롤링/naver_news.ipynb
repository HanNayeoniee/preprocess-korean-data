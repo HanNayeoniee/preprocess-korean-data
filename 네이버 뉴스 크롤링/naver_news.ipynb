{
 "cells": [
  {
   "attachments": {},
   "cell_type": "markdown",
   "id": "32799c93",
   "metadata": {},
   "source": [
    "## 네이버 뉴스 크롤링"
   ]
  },
  {
   "cell_type": "code",
   "execution_count": null,
   "id": "50d0a89d",
   "metadata": {},
   "outputs": [],
   "source": [
    "# !pip install newspaper3k"
   ]
  },
  {
   "cell_type": "code",
   "execution_count": 1,
   "id": "3566abb8-aaf9-496c-9f49-b21eee4800fa",
   "metadata": {
    "tags": []
   },
   "outputs": [],
   "source": [
    "import os\n",
    "import sys\n",
    "import json\n",
    "import pandas as pd\n",
    "from newspaper import Article\n",
    "from bs4 import BeautifulSoup\n",
    "import time\n",
    "import requests\n",
    "import re"
   ]
  },
  {
   "cell_type": "code",
   "execution_count": 8,
   "id": "71e662fe-4b5d-4608-b97e-693e634509e9",
   "metadata": {
    "tags": []
   },
   "outputs": [],
   "source": [
    "def get_article(url, language='ko'):\n",
    "    \"\"\"\n",
    "    newspaper3k 라이브러리 사용해 기사 제목, 본문 파싱\n",
    "    \"\"\"\n",
    "    a = Article(url, language='ko')\n",
    "    a.download()\n",
    "    a.parse()\n",
    "\n",
    "    return a.title, a.text\n",
    "\n",
    "\n",
    "# #크롤링할 url 주소 입력\n",
    "# url = 'http://v.media.daum.net/v/20170604205121164'\n",
    "# title, context = get_article(url)"
   ]
  },
  {
   "cell_type": "code",
   "execution_count": 3,
   "id": "2191b848-a024-4d20-82a7-177b2520fd00",
   "metadata": {
    "tags": []
   },
   "outputs": [],
   "source": [
    "def get_ranking_news(date, cnt):\n",
    "    \"\"\"\n",
    "    해당 날짜의 언론사별 조회수 기준 상위 cnt개 기사 정보 수집\n",
    "    \"\"\"\n",
    "    total_time = 0\n",
    "    I = []\n",
    "    \n",
    "    #언론사\n",
    "    press_id = {\"MBC\":\"214\", \"KBS\":\"056\", \"SBS\":\"055\", \"중앙일보\":\"025\", \"JTBC\":\"437\", \"YTN\":\"052\", \"서울신문\":\"081\", \"매일경제\":\"009\", \"한국경제\":\"015\", \"조선일보\":\"023\", \"세계일보\":\"022\", \"한겨례\":\"028\", \"한국일보\":\"469\", \"연합뉴스\":\"001\", \"채널A\":\"449\", \"MBN\":\"057\", \"조선비즈\":\"366\", \"뉴스1\":\"421\", \"미디어오늘\":\"006\"}\n",
    "    \n",
    "    for press in press_id:\n",
    "        start = time.time()\n",
    "        url = \"https://news.naver.com/main/ranking/office.nhn?officeId=\"+press_id[press]+\"&date=\"+str(date)\n",
    "        headers = {\"User-Agent\": \"Mozilla/5.0(Windows NT 10.0;Win64;x64)AppleWebKit/537.36(KHTML, like Gecko)Chrome/87.0.4280.88 Safari/537.36\"}\n",
    "        resp = requests.get(url, headers=headers)\n",
    "        soup = BeautifulSoup(resp.text, \"html.parser\")\n",
    "        \n",
    "        ranking_box = soup.find_all(class_=\"rankingnews_box_inner\")\n",
    "        \n",
    "        \n",
    "        #조회수(0) -> 댓글수(1)\n",
    "        for ranking_type in range(1):\n",
    "            ranking = ranking_box[ranking_type].find_all(class_=\"list_ranking_num\")\n",
    "            url_list = ranking_box[ranking_type].find_all(class_=\"list_content\")\n",
    "            \n",
    "            # 랭킹순\n",
    "            for rank in range(cnt):\n",
    "                d = {}\n",
    "                d['Date'] = int(date)\n",
    "                d['Press'] = press\n",
    "                d['Rank'] = ranking[rank].get_text()\n",
    "                d['URL'] = url_list[rank].find('a')['href']\n",
    "                d['Title'] = url_list[rank].find('a').get_text()\n",
    "                if(ranking_type == 0):\n",
    "                    d['View'] = url_list[rank].find(class_=\"list_view\").get_text()\n",
    "                elif(ranking_type==1):\n",
    "                    d['Comment'] = url_list[rank].find(class_=\"list_comment nclicks('RBP.dcmtnwscmt')\").get_text()\n",
    "                I.append(d)\n",
    "    return I"
   ]
  },
  {
   "cell_type": "code",
   "execution_count": 7,
   "id": "bf76d818-4373-47d5-87e9-70e3f1596ffc",
   "metadata": {
    "tags": []
   },
   "outputs": [
    {
     "name": "stdout",
     "output_type": "stream",
     "text": [
      "Saved to... ./news_data/20230521_ranking_news.xlsx\n"
     ]
    }
   ],
   "source": [
    "date = \"20230521\"\n",
    "cnt = 1\n",
    "save_path = './news_data/' + str(date) +'_ranking_news.xlsx'\n",
    "\n",
    "ranking_news = get_ranking_news(date, cnt)\n",
    "total_df = pd.DataFrame(columns=[\"title\", \"text\", \"url\", \"date\", \"press\"])\n",
    "\n",
    "for news in ranking_news:\n",
    "    url = \"https://news.naver.com\" + news['URL']\n",
    "    title, text = get_article(url, language='ko')\n",
    "\n",
    "    news_data = pd.DataFrame({\n",
    "        \"title\": [title],\n",
    "        \"text\": [text],\n",
    "        \"url\": [url],\n",
    "        \"date\": [news[\"Date\"]],\n",
    "        \"press\": [news[\"Press\"]]\n",
    "    })\n",
    "\n",
    "    total_df = pd.concat([total_df, news_data])\n",
    "\n",
    "total_df.to_excel(save_path, index=False)\n",
    "print('Saved to...', save_path)"
   ]
  },
  {
   "cell_type": "code",
   "execution_count": 5,
   "id": "2cab1128-3d82-43ff-a648-04ebe0d2735d",
   "metadata": {
    "tags": []
   },
   "outputs": [
    {
     "data": {
      "text/html": [
       "<div>\n",
       "<style scoped>\n",
       "    .dataframe tbody tr th:only-of-type {\n",
       "        vertical-align: middle;\n",
       "    }\n",
       "\n",
       "    .dataframe tbody tr th {\n",
       "        vertical-align: top;\n",
       "    }\n",
       "\n",
       "    .dataframe thead th {\n",
       "        text-align: right;\n",
       "    }\n",
       "</style>\n",
       "<table border=\"1\" class=\"dataframe\">\n",
       "  <thead>\n",
       "    <tr style=\"text-align: right;\">\n",
       "      <th></th>\n",
       "      <th>title</th>\n",
       "      <th>text</th>\n",
       "      <th>url</th>\n",
       "      <th>date</th>\n",
       "      <th>press</th>\n",
       "    </tr>\n",
       "  </thead>\n",
       "  <tbody>\n",
       "    <tr>\n",
       "      <th>0</th>\n",
       "      <td>서울대 경제ㆍ경영 졸업생들은 어디로 가나?</td>\n",
       "      <td>\"행시(행정고시)도 시들해졌어요\" \"유학도 많이 줄었어요\"\\n\\n'신의 직장'으로 ...</td>\n",
       "      <td>https://news.naver.com/main/ranking/read.naver...</td>\n",
       "      <td>20230521</td>\n",
       "      <td>MBC</td>\n",
       "    </tr>\n",
       "    <tr>\n",
       "      <th>0</th>\n",
       "      <td>인천 서구·경기 김포 합의…5호선 김포-검단 연장 급물살</td>\n",
       "      <td>\\n\\n■ 제보하기\\n\\n▷ 전화 : 02-781-1234, 4444\\n\\n▷ 이메...</td>\n",
       "      <td>https://news.naver.com/main/ranking/read.naver...</td>\n",
       "      <td>20230521</td>\n",
       "      <td>KBS</td>\n",
       "    </tr>\n",
       "    <tr>\n",
       "      <th>0</th>\n",
       "      <td>[단독] 맨발 여중생 폭행한 가족…\"아빠는 구치소에 구금\"</td>\n",
       "      <td>&lt;앵커&gt;\\n\\n\\n\\n서울 강남 한복판에서 여중생이 부모와 오빠에게 집단 폭행을 당...</td>\n",
       "      <td>https://news.naver.com/main/ranking/read.naver...</td>\n",
       "      <td>20230521</td>\n",
       "      <td>SBS</td>\n",
       "    </tr>\n",
       "    <tr>\n",
       "      <th>0</th>\n",
       "      <td>'100억 건물주' 하지원…1층 안경점 빼고 텅 비었다, 年2억 손실?</td>\n",
       "      <td>배우 하지원이 서울 중심에 있는 빌딩을 100억원에 매입했으나 임대 수익률이 낮아 ...</td>\n",
       "      <td>https://news.naver.com/main/ranking/read.naver...</td>\n",
       "      <td>20230521</td>\n",
       "      <td>중앙일보</td>\n",
       "    </tr>\n",
       "    <tr>\n",
       "      <th>0</th>\n",
       "      <td>[영상] 제트스키 몰고 남방큰돌고래 코앞에서 위협한 6명 적발</td>\n",
       "      <td>제주 바다에서 제트스키를 몰고 해양보호생물인 남방큰돌고래 무리에 과도하게 가까이 다...</td>\n",
       "      <td>https://news.naver.com/main/ranking/read.naver...</td>\n",
       "      <td>20230521</td>\n",
       "      <td>JTBC</td>\n",
       "    </tr>\n",
       "  </tbody>\n",
       "</table>\n",
       "</div>"
      ],
      "text/plain": [
       "                                     title   \n",
       "0                  서울대 경제ㆍ경영 졸업생들은 어디로 가나?  \\\n",
       "0          인천 서구·경기 김포 합의…5호선 김포-검단 연장 급물살   \n",
       "0         [단독] 맨발 여중생 폭행한 가족…\"아빠는 구치소에 구금\"   \n",
       "0  '100억 건물주' 하지원…1층 안경점 빼고 텅 비었다, 年2억 손실?   \n",
       "0       [영상] 제트스키 몰고 남방큰돌고래 코앞에서 위협한 6명 적발   \n",
       "\n",
       "                                                text   \n",
       "0  \"행시(행정고시)도 시들해졌어요\" \"유학도 많이 줄었어요\"\\n\\n'신의 직장'으로 ...  \\\n",
       "0  \\n\\n■ 제보하기\\n\\n▷ 전화 : 02-781-1234, 4444\\n\\n▷ 이메...   \n",
       "0  <앵커>\\n\\n\\n\\n서울 강남 한복판에서 여중생이 부모와 오빠에게 집단 폭행을 당...   \n",
       "0  배우 하지원이 서울 중심에 있는 빌딩을 100억원에 매입했으나 임대 수익률이 낮아 ...   \n",
       "0  제주 바다에서 제트스키를 몰고 해양보호생물인 남방큰돌고래 무리에 과도하게 가까이 다...   \n",
       "\n",
       "                                                 url      date press  \n",
       "0  https://news.naver.com/main/ranking/read.naver...  20230521   MBC  \n",
       "0  https://news.naver.com/main/ranking/read.naver...  20230521   KBS  \n",
       "0  https://news.naver.com/main/ranking/read.naver...  20230521   SBS  \n",
       "0  https://news.naver.com/main/ranking/read.naver...  20230521  중앙일보  \n",
       "0  https://news.naver.com/main/ranking/read.naver...  20230521  JTBC  "
      ]
     },
     "execution_count": 5,
     "metadata": {},
     "output_type": "execute_result"
    }
   ],
   "source": [
    "total_df.head()"
   ]
  },
  {
   "cell_type": "code",
   "execution_count": null,
   "id": "5f4ecc7a-156e-42d5-824e-bc51bffd04d5",
   "metadata": {
    "tags": []
   },
   "outputs": [],
   "source": []
  }
 ],
 "metadata": {
  "kernelspec": {
   "display_name": "Python 3 (ipykernel)",
   "language": "python",
   "name": "python3"
  },
  "language_info": {
   "codemirror_mode": {
    "name": "ipython",
    "version": 3
   },
   "file_extension": ".py",
   "mimetype": "text/x-python",
   "name": "python",
   "nbconvert_exporter": "python",
   "pygments_lexer": "ipython3",
   "version": "3.8.5"
  }
 },
 "nbformat": 4,
 "nbformat_minor": 5
}
